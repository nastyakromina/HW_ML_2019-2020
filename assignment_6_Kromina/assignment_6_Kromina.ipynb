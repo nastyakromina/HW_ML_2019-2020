{
  "nbformat": 4,
  "nbformat_minor": 0,
  "metadata": {
    "kernelspec": {
      "name": "python3",
      "display_name": "Python 3"
    },
    "language_info": {
      "codemirror_mode": {
        "name": "ipython",
        "version": 3
      },
      "file_extension": ".py",
      "mimetype": "text/x-python",
      "name": "python",
      "nbconvert_exporter": "python",
      "pygments_lexer": "ipython3",
      "version": "3.6.4"
    },
    "colab": {
      "name": "assignment6_original — копия.ipynb",
      "provenance": [],
      "collapsed_sections": []
    },
    "accelerator": "GPU"
  },
  "cells": [
    {
      "cell_type": "code",
      "metadata": {
        "id": "z_xVGAichFQg",
        "colab_type": "code",
        "outputId": "fb4d541b-eb13-4661-c249-ff3f17890eb9",
        "colab": {
          "base_uri": "https://localhost:8080/",
          "height": 384
        }
      },
      "source": [
        "!pip install bpemb"
      ],
      "execution_count": 52,
      "outputs": [
        {
          "output_type": "stream",
          "text": [
            "Requirement already satisfied: bpemb in /usr/local/lib/python3.6/dist-packages (0.3.0)\n",
            "Requirement already satisfied: requests in /usr/local/lib/python3.6/dist-packages (from bpemb) (2.21.0)\n",
            "Requirement already satisfied: sentencepiece in /usr/local/lib/python3.6/dist-packages (from bpemb) (0.1.85)\n",
            "Requirement already satisfied: numpy in /usr/local/lib/python3.6/dist-packages (from bpemb) (1.17.5)\n",
            "Requirement already satisfied: gensim in /usr/local/lib/python3.6/dist-packages (from bpemb) (3.6.0)\n",
            "Requirement already satisfied: tqdm in /usr/local/lib/python3.6/dist-packages (from bpemb) (4.28.1)\n",
            "Requirement already satisfied: urllib3<1.25,>=1.21.1 in /usr/local/lib/python3.6/dist-packages (from requests->bpemb) (1.24.3)\n",
            "Requirement already satisfied: chardet<3.1.0,>=3.0.2 in /usr/local/lib/python3.6/dist-packages (from requests->bpemb) (3.0.4)\n",
            "Requirement already satisfied: idna<2.9,>=2.5 in /usr/local/lib/python3.6/dist-packages (from requests->bpemb) (2.8)\n",
            "Requirement already satisfied: certifi>=2017.4.17 in /usr/local/lib/python3.6/dist-packages (from requests->bpemb) (2019.11.28)\n",
            "Requirement already satisfied: smart-open>=1.2.1 in /usr/local/lib/python3.6/dist-packages (from gensim->bpemb) (1.9.0)\n",
            "Requirement already satisfied: scipy>=0.18.1 in /usr/local/lib/python3.6/dist-packages (from gensim->bpemb) (1.4.1)\n",
            "Requirement already satisfied: six>=1.5.0 in /usr/local/lib/python3.6/dist-packages (from gensim->bpemb) (1.12.0)\n",
            "Requirement already satisfied: boto3 in /usr/local/lib/python3.6/dist-packages (from smart-open>=1.2.1->gensim->bpemb) (1.10.47)\n",
            "Requirement already satisfied: boto>=2.32 in /usr/local/lib/python3.6/dist-packages (from smart-open>=1.2.1->gensim->bpemb) (2.49.0)\n",
            "Requirement already satisfied: jmespath<1.0.0,>=0.7.1 in /usr/local/lib/python3.6/dist-packages (from boto3->smart-open>=1.2.1->gensim->bpemb) (0.9.4)\n",
            "Requirement already satisfied: botocore<1.14.0,>=1.13.47 in /usr/local/lib/python3.6/dist-packages (from boto3->smart-open>=1.2.1->gensim->bpemb) (1.13.47)\n",
            "Requirement already satisfied: s3transfer<0.3.0,>=0.2.0 in /usr/local/lib/python3.6/dist-packages (from boto3->smart-open>=1.2.1->gensim->bpemb) (0.2.1)\n",
            "Requirement already satisfied: python-dateutil<3.0.0,>=2.1; python_version >= \"2.7\" in /usr/local/lib/python3.6/dist-packages (from botocore<1.14.0,>=1.13.47->boto3->smart-open>=1.2.1->gensim->bpemb) (2.6.1)\n",
            "Requirement already satisfied: docutils<0.16,>=0.10 in /usr/local/lib/python3.6/dist-packages (from botocore<1.14.0,>=1.13.47->boto3->smart-open>=1.2.1->gensim->bpemb) (0.15.2)\n"
          ],
          "name": "stdout"
        }
      ]
    },
    {
      "cell_type": "code",
      "metadata": {
        "id": "R_vbDnr17pHK",
        "colab_type": "code",
        "colab": {}
      },
      "source": [
        "import numpy as np\n",
        "import torchtext\n",
        "import matplotlib.pyplot as plt\n",
        "import torch\n",
        "import torch.nn as nn\n",
        "import torch.nn.functional as F\n",
        "import torch.optim as optim\n",
        "from torchtext import data\n",
        "from torchtext.datasets import WikiText2\n",
        "from bpemb import BPEmb\n",
        "from torchtext.vocab import Vectors\n",
        "from tqdm import tqdm\n",
        "from torch.autograd import Variable as V"
      ],
      "execution_count": 0,
      "outputs": []
    },
    {
      "cell_type": "markdown",
      "metadata": {
        "id": "R3ReorQ-uyr2",
        "colab_type": "text"
      },
      "source": [
        "**Работа с данными, для токенизации будем использовать byte-pair-encoding**"
      ]
    },
    {
      "cell_type": "code",
      "metadata": {
        "id": "5SocBKKFlcI9",
        "colab_type": "code",
        "outputId": "62ff61b8-90f9-49dd-e2fc-4aa64186bd1d",
        "colab": {
          "base_uri": "https://localhost:8080/",
          "height": 72
        }
      },
      "source": [
        "bpemb_en = BPEmb(lang=\"en\", dim=300, vs=3000)"
      ],
      "execution_count": 54,
      "outputs": [
        {
          "output_type": "stream",
          "text": [
            "/usr/local/lib/python3.6/dist-packages/smart_open/smart_open_lib.py:402: UserWarning: This function is deprecated, use smart_open.open instead. See the migration notes for details: https://github.com/RaRe-Technologies/smart_open/blob/master/README.rst#migrating-to-the-new-open-function\n",
            "  'See the migration notes for details: %s' % _MIGRATION_NOTES_URL\n"
          ],
          "name": "stderr"
        }
      ]
    },
    {
      "cell_type": "code",
      "metadata": {
        "id": "t6K1t_MbzwqE",
        "colab_type": "code",
        "outputId": "57af2b36-a3b5-4a33-9e73-d93c52223ba4",
        "colab": {
          "base_uri": "https://localhost:8080/",
          "height": 35
        }
      },
      "source": [
        "bpemb_en.encode('Machine learning') #the example of segmentation, subwords "
      ],
      "execution_count": 55,
      "outputs": [
        {
          "output_type": "execute_result",
          "data": {
            "text/plain": [
              "['▁mach', 'ine', '▁le', 'ar', 'ning']"
            ]
          },
          "metadata": {
            "tags": []
          },
          "execution_count": 55
        }
      ]
    },
    {
      "cell_type": "code",
      "metadata": {
        "id": "g0rrvRnN2r_P",
        "colab_type": "code",
        "outputId": "ea3e9a46-4938-40d7-89a8-83a33f3f5cf7",
        "colab": {
          "base_uri": "https://localhost:8080/",
          "height": 72
        }
      },
      "source": [
        "bpemb_en.emb.save_word2vec_format('bpe_emv.vec') "
      ],
      "execution_count": 56,
      "outputs": [
        {
          "output_type": "stream",
          "text": [
            "/usr/local/lib/python3.6/dist-packages/smart_open/smart_open_lib.py:402: UserWarning: This function is deprecated, use smart_open.open instead. See the migration notes for details: https://github.com/RaRe-Technologies/smart_open/blob/master/README.rst#migrating-to-the-new-open-function\n",
            "  'See the migration notes for details: %s' % _MIGRATION_NOTES_URL\n"
          ],
          "name": "stderr"
        }
      ]
    },
    {
      "cell_type": "code",
      "metadata": {
        "id": "CYyJRw_v2Tjs",
        "colab_type": "code",
        "colab": {}
      },
      "source": [
        "vec = Vectors(name='bpe_emv.vec', cache='./')"
      ],
      "execution_count": 0,
      "outputs": []
    },
    {
      "cell_type": "code",
      "metadata": {
        "id": "n-kucAR8pY28",
        "colab_type": "code",
        "colab": {}
      },
      "source": [
        "TEXT = data.Field(lower=True, tokenize=bpemb_en.encode)"
      ],
      "execution_count": 0,
      "outputs": []
    },
    {
      "cell_type": "code",
      "metadata": {
        "id": "-lMpHSCR1hqL",
        "colab_type": "code",
        "colab": {}
      },
      "source": [
        "train, validation, test = WikiText2.splits(TEXT)"
      ],
      "execution_count": 0,
      "outputs": []
    },
    {
      "cell_type": "code",
      "metadata": {
        "id": "Z9BVvj6p7pIP",
        "colab_type": "code",
        "colab": {}
      },
      "source": [
        "TEXT.build_vocab(train, vectors = vec)"
      ],
      "execution_count": 0,
      "outputs": []
    },
    {
      "cell_type": "code",
      "metadata": {
        "id": "dt3EgU3l7pIb",
        "colab_type": "code",
        "colab": {}
      },
      "source": [
        "train_iter, validation_iter, test_iter = data.BPTTIterator.splits((train, validation, test),\n",
        "                                                                  batch_size=32,\n",
        "                                                                  bptt_len=30,\n",
        "                                                                  device='cuda',\n",
        "                                                                  repeat=False)"
      ],
      "execution_count": 0,
      "outputs": []
    },
    {
      "cell_type": "code",
      "metadata": {
        "id": "ITO9ouB77pIg",
        "colab_type": "code",
        "colab": {}
      },
      "source": [
        "batch = next(iter(train_iter))"
      ],
      "execution_count": 0,
      "outputs": []
    },
    {
      "cell_type": "code",
      "metadata": {
        "id": "AcmSUpm07pIp",
        "colab_type": "code",
        "outputId": "423a0c5b-ef3e-4ad0-9c34-739f37094bbb",
        "colab": {
          "base_uri": "https://localhost:8080/",
          "height": 121
        }
      },
      "source": [
        "batch.text[:2]"
      ],
      "execution_count": 63,
      "outputs": [
        {
          "output_type": "execute_result",
          "data": {
            "text/plain": [
              "tensor([[  17,   33,    4,    6,   56, 1874,  787,  686,   98,  291,    7,  331,\n",
              "           62,  429,  127,  578,   24,   24, 1198,   22,  181,   13,    2, 1006,\n",
              "           21,  384,  176,   36,   14,  120, 1417,    6],\n",
              "        [  18,  268,   13,   10,   30,   19,   99,  326,   34,    5,    2,    2,\n",
              "          685,  992,   23,   14,    5,  697,  575,  725,   68,   26,  180,   36,\n",
              "          124,  133,    3,    4,   67,   49,    4,   10]], device='cuda:0')"
            ]
          },
          "metadata": {
            "tags": []
          },
          "execution_count": 63
        }
      ]
    },
    {
      "cell_type": "code",
      "metadata": {
        "id": "6vZ-1N-B7pIt",
        "colab_type": "code",
        "outputId": "8b887142-9263-46ef-e416-0f9c2b5e9433",
        "colab": {
          "base_uri": "https://localhost:8080/",
          "height": 121
        }
      },
      "source": [
        "batch.target[:2]"
      ],
      "execution_count": 64,
      "outputs": [
        {
          "output_type": "execute_result",
          "data": {
            "text/plain": [
              "tensor([[  18,  268,   13,   10,   30,   19,   99,  326,   34,    5,    2,    2,\n",
              "          685,  992,   23,   14,    5,  697,  575,  725,   68,   26,  180,   36,\n",
              "          124,  133,    3,    4,   67,   49,    4,   10],\n",
              "        [1128,  254,   26,  134,    2,   11,  327,   29,  578,   17,  540,  239,\n",
              "          392,  454,  121, 1949,  163,   21,    2,   31,  842,   13, 1803,   77,\n",
              "           17, 1238,  283,    9,    4, 1942,   13,    5]], device='cuda:0')"
            ]
          },
          "metadata": {
            "tags": []
          },
          "execution_count": 64
        }
      ]
    },
    {
      "cell_type": "markdown",
      "metadata": {
        "id": "fHWF906Bvl0c",
        "colab_type": "text"
      },
      "source": [
        "**Обучение RNN модели**"
      ]
    },
    {
      "cell_type": "code",
      "metadata": {
        "id": "GAbbiN5T7pI6",
        "colab_type": "code",
        "colab": {}
      },
      "source": [
        "class RNNModel(nn.Module):\n",
        "    def __init__(self, ntoken, ninp, nhid, nlayers, bsz, dropout=0.5, tie_weights=True):\n",
        "        super(RNNModel, self).__init__()\n",
        "        self.nhid, self.nlayers, self.bsz = nhid, nlayers, bsz\n",
        "        self.drop = nn.Dropout(dropout)\n",
        "        self.encoder = nn.Embedding(ntoken, ninp)\n",
        "        self.rnn = nn.LSTM(ninp, nhid, nlayers, dropout=dropout)\n",
        "        self.decoder = nn.Linear(nhid, ntoken)\n",
        "        self.init_weights()\n",
        "        self.hidden = self.init_hidden(bsz) \n",
        "\n",
        "    def init_weights(self):\n",
        "        initrange = 0.1\n",
        "        self.encoder.weight.data.uniform_(-initrange, initrange)\n",
        "        self.decoder.bias.data.fill_(0)\n",
        "        self.decoder.weight.data.uniform_(-initrange, initrange)\n",
        "\n",
        "    def forward(self, input):\n",
        "        emb = self.drop(self.encoder(input))\n",
        "        output, self.hidden = self.rnn(emb, self.hidden)\n",
        "        output = self.drop(output)\n",
        "        decoded = self.decoder(output.view(output.size(0)*output.size(1), output.size(2)))\n",
        "        return decoded.view(output.size(0), output.size(1), decoded.size(1))\n",
        "\n",
        "    def init_hidden(self, bsz):\n",
        "        weight = next(self.parameters()).data\n",
        "        return (V(weight.new(self.nlayers, bsz, self.nhid).zero_().cuda()),\n",
        "                V(weight.new(self.nlayers, bsz, self.nhid).zero_()).cuda())\n",
        "    \n",
        "    def reset_history(self):\n",
        "        \"\"\"Wraps hidden states in new Variables, to detach them from their history.\"\"\"\n",
        "        self.hidden = tuple(V(v.data) for v in self.hidden)"
      ],
      "execution_count": 0,
      "outputs": []
    },
    {
      "cell_type": "code",
      "metadata": {
        "id": "Km5UFnmZ7pI-",
        "colab_type": "code",
        "colab": {}
      },
      "source": [
        "wt_mx = TEXT.vocab.vectors"
      ],
      "execution_count": 0,
      "outputs": []
    },
    {
      "cell_type": "code",
      "metadata": {
        "id": "H0ckoJ-S7pJD",
        "colab_type": "code",
        "colab": {}
      },
      "source": [
        "model = RNNModel(wt_mx.shape[0], wt_mx.shape[1], 300, 2, 32)"
      ],
      "execution_count": 0,
      "outputs": []
    },
    {
      "cell_type": "code",
      "metadata": {
        "id": "e6UtWHv87pJH",
        "colab_type": "code",
        "outputId": "fe4fd7b7-ac0d-4b4e-a1ab-060faf700a2c",
        "colab": {
          "base_uri": "https://localhost:8080/",
          "height": 139
        }
      },
      "source": [
        "model.encoder.weight.data.copy_(wt_mx)"
      ],
      "execution_count": 68,
      "outputs": [
        {
          "output_type": "execute_result",
          "data": {
            "text/plain": [
              "tensor([[-0.2843,  0.0555,  0.5626,  ...,  0.1437,  0.1979, -0.0768],\n",
              "        [ 0.0000,  0.0000,  0.0000,  ...,  0.0000,  0.0000,  0.0000],\n",
              "        [-0.1435, -0.0360, -0.1986,  ...,  0.0687, -0.1254,  0.1674],\n",
              "        ...,\n",
              "        [ 0.0000,  0.0000,  0.0000,  ...,  0.0000,  0.0000,  0.0000],\n",
              "        [ 0.0000,  0.0000,  0.0000,  ...,  0.0000,  0.0000,  0.0000],\n",
              "        [ 0.0000,  0.0000,  0.0000,  ...,  0.0000,  0.0000,  0.0000]])"
            ]
          },
          "metadata": {
            "tags": []
          },
          "execution_count": 68
        }
      ]
    },
    {
      "cell_type": "code",
      "metadata": {
        "id": "9lOG-974W-q8",
        "colab_type": "code",
        "outputId": "8c38e568-1485-43b6-ffa8-0366736b5203",
        "colab": {
          "base_uri": "https://localhost:8080/",
          "height": 35
        }
      },
      "source": [
        "def number_of_parameters(model):\n",
        "    return sum(p.numel() for p in model.parameters() if p.requires_grad)\n",
        "number_of_parameters(model)"
      ],
      "execution_count": 69,
      "outputs": [
        {
          "output_type": "execute_result",
          "data": {
            "text/plain": [
              "3240588"
            ]
          },
          "metadata": {
            "tags": []
          },
          "execution_count": 69
        }
      ]
    },
    {
      "cell_type": "code",
      "metadata": {
        "id": "gU-RNGtn7pJP",
        "colab_type": "code",
        "colab": {}
      },
      "source": [
        "criterion = nn.CrossEntropyLoss()\n",
        "optimizer = optim.Adam(model.parameters(), lr=0.0005, betas=(0.7, 0.99))"
      ],
      "execution_count": 0,
      "outputs": []
    },
    {
      "cell_type": "code",
      "metadata": {
        "id": "eOQXEY4lbAfe",
        "colab_type": "code",
        "colab": {}
      },
      "source": [
        "model = model.cuda()\n",
        "criterion =criterion.cuda()"
      ],
      "execution_count": 0,
      "outputs": []
    },
    {
      "cell_type": "code",
      "metadata": {
        "id": "ZdRzaW4F7pJT",
        "colab_type": "code",
        "colab": {}
      },
      "source": [
        "n_epochs = 5"
      ],
      "execution_count": 0,
      "outputs": []
    },
    {
      "cell_type": "code",
      "metadata": {
        "id": "-rJOyqAB7pJX",
        "colab_type": "code",
        "colab": {}
      },
      "source": [
        "n_tokens = wt_mx.shape[0]"
      ],
      "execution_count": 0,
      "outputs": []
    },
    {
      "cell_type": "code",
      "metadata": {
        "id": "Sf-gbv8JW3MX",
        "colab_type": "code",
        "outputId": "69af33d1-e115-432e-f0ae-6b883b950345",
        "colab": {
          "base_uri": "https://localhost:8080/",
          "height": 35
        }
      },
      "source": [
        "n_tokens"
      ],
      "execution_count": 74,
      "outputs": [
        {
          "output_type": "execute_result",
          "data": {
            "text/plain": [
              "2988"
            ]
          },
          "metadata": {
            "tags": []
          },
          "execution_count": 74
        }
      ]
    },
    {
      "cell_type": "code",
      "metadata": {
        "id": "cZOXEKPM7pJe",
        "colab_type": "code",
        "colab": {}
      },
      "source": [
        "validation_loss = []\n",
        "train_loss = []\n",
        "\n",
        "def train_epoch(epoch, validation_loss, train_loss):\n",
        "    model.train()\n",
        "    progress_bar = tqdm(total=len(train_iter), disable=not True, desc='Train')\n",
        "    for batch in train_iter:\n",
        "        model.reset_history()\n",
        "        optimizer.zero_grad()\n",
        "  \n",
        "        text, targets = batch.text, batch.target\n",
        "        prediction = model(text)\n",
        "    \n",
        "        loss = criterion(prediction.view(-1, n_tokens), targets.view(-1))\n",
        "        loss.backward()\n",
        "        \n",
        "        optimizer.step()\n",
        "        l = loss.data.cpu().numpy()\n",
        "        train_loss.append(l)\n",
        "        progress_bar.set_postfix(loss=np.mean(train_loss[-150:]), perplexity=np.exp(np.mean(train_loss[-150:])))\n",
        "        progress_bar.update()\n",
        "        \n",
        "    with torch.no_grad():\n",
        "      val_loss = 0\n",
        "      model.eval()\n",
        "      for batch in validation_iter:\n",
        "          model.reset_history()\n",
        "          text, targets = batch.text, batch.target\n",
        "          prediction = model(text)\n",
        "          loss = criterion(prediction.view(-1, n_tokens), targets.view(-1))\n",
        "          lv = loss.data.cpu().numpy()\n",
        "          validation_loss.append(lv)\n",
        "          val_loss += lv*text.shape[0]\n",
        "          \n",
        "      val_loss /= len(validation.examples[0].text)\n",
        "    \n",
        "    print('\\nValidation Loss: {:.4f}'.format(val_loss)) "
      ],
      "execution_count": 0,
      "outputs": []
    },
    {
      "cell_type": "code",
      "metadata": {
        "id": "JQwLwXYPc3Xu",
        "colab_type": "code",
        "outputId": "b6f6107d-b7a1-4953-a398-6297d2b40d4a",
        "colab": {
          "base_uri": "https://localhost:8080/",
          "height": 451
        }
      },
      "source": [
        "for epoch in range(1, n_epochs + 1):\n",
        "    print('\\nEpoch:{}'.format(epoch))\n",
        "    train_epoch(epoch, validation_loss, train_loss)\n",
        "    for instance in list(tqdm._instances):\n",
        "      tqdm._decr_instances(instance)"
      ],
      "execution_count": 76,
      "outputs": [
        {
          "output_type": "stream",
          "text": [
            "\rTrain:   0%|          | 0/3426 [00:00<?, ?it/s]"
          ],
          "name": "stderr"
        },
        {
          "output_type": "stream",
          "text": [
            "\n",
            "Epoch:1\n"
          ],
          "name": "stdout"
        },
        {
          "output_type": "stream",
          "text": [
            "Train: 100%|██████████| 3426/3426 [14:35<00:00,  3.91it/s, loss=4.09, perplexity=59.6]\n",
            "Train:   0%|          | 0/3426 [00:00<?, ?it/s]"
          ],
          "name": "stderr"
        },
        {
          "output_type": "stream",
          "text": [
            "\n",
            "Validation Loss: 0.1290\n",
            "\n",
            "Epoch:2\n"
          ],
          "name": "stdout"
        },
        {
          "output_type": "stream",
          "text": [
            "Train: 100%|██████████| 3426/3426 [01:19<00:00, 42.89it/s, loss=4.7, perplexity=110]\n",
            "Train:   0%|          | 0/3426 [00:00<?, ?it/s]"
          ],
          "name": "stderr"
        },
        {
          "output_type": "stream",
          "text": [
            "\n",
            "Validation Loss: 0.1194\n",
            "\n",
            "Epoch:3\n"
          ],
          "name": "stdout"
        },
        {
          "output_type": "stream",
          "text": [
            "Train: 100%|██████████| 3426/3426 [01:20<00:00, 42.44it/s, loss=4.4, perplexity=81.2]\n",
            "Train:   0%|          | 0/3426 [00:00<?, ?it/s]"
          ],
          "name": "stderr"
        },
        {
          "output_type": "stream",
          "text": [
            "\n",
            "Validation Loss: 0.1147\n",
            "\n",
            "Epoch:4\n"
          ],
          "name": "stdout"
        },
        {
          "output_type": "stream",
          "text": [
            "Train: 100%|██████████| 3426/3426 [01:21<00:00, 42.15it/s, loss=4.24, perplexity=69.6]\n",
            "Train:   0%|          | 0/3426 [00:00<?, ?it/s]"
          ],
          "name": "stderr"
        },
        {
          "output_type": "stream",
          "text": [
            "\n",
            "Validation Loss: 0.1119\n",
            "\n",
            "Epoch:5\n"
          ],
          "name": "stdout"
        },
        {
          "output_type": "stream",
          "text": [
            "Train: 100%|██████████| 3426/3426 [01:21<00:00, 42.24it/s, loss=4.15, perplexity=63.6]"
          ],
          "name": "stderr"
        },
        {
          "output_type": "stream",
          "text": [
            "\n",
            "Validation Loss: 0.1101\n"
          ],
          "name": "stdout"
        },
        {
          "output_type": "stream",
          "text": [
            "\n"
          ],
          "name": "stderr"
        }
      ]
    },
    {
      "cell_type": "code",
      "metadata": {
        "id": "5LUpTQRwEUP2",
        "colab_type": "code",
        "colab": {}
      },
      "source": [
        "for i in list(tqdm._instances):\n",
        "      tqdm._decr_instances(i)"
      ],
      "execution_count": 0,
      "outputs": []
    },
    {
      "cell_type": "code",
      "metadata": {
        "id": "MdF_sUeAYeDs",
        "colab_type": "code",
        "outputId": "8e1f61cc-5c85-4f5c-85f3-dcf7995cb7cd",
        "colab": {
          "base_uri": "https://localhost:8080/",
          "height": 313
        }
      },
      "source": [
        "plt.title('Training loss')\n",
        "plt.plot(train_loss, color='blue', linewidth=1)\n",
        "plt.legend()\n",
        "plt.xlabel('Iterations')\n",
        "plt.show()"
      ],
      "execution_count": 78,
      "outputs": [
        {
          "output_type": "stream",
          "text": [
            "No handles with labels found to put in legend.\n"
          ],
          "name": "stderr"
        },
        {
          "output_type": "display_data",
          "data": {
            "image/png": "[encoded data removed]",
            "text/plain": [
              "<Figure size 432x288 with 1 Axes>"
            ]
          },
          "metadata": {
            "tags": []
          }
        }
      ]
    },
    {
      "cell_type": "code",
      "metadata": {
        "id": "Jd7BVANrZc0K",
        "colab_type": "code",
        "outputId": "84c05f56-13da-4634-9090-b48bc8123465",
        "colab": {
          "base_uri": "https://localhost:8080/",
          "height": 313
        }
      },
      "source": [
        "plt.title('Validation loss')\n",
        "plt.plot(validation_loss, color='blue', linewidth=1)\n",
        "plt.legend()\n",
        "plt.xlabel('Iterations')\n",
        "plt.show()"
      ],
      "execution_count": 79,
      "outputs": [
        {
          "output_type": "stream",
          "text": [
            "No handles with labels found to put in legend.\n"
          ],
          "name": "stderr"
        },
        {
          "output_type": "display_data",
          "data": {
            "image/png": "[encoded data removed]",
            "text/plain": [
              "<Figure size 432x288 with 1 Axes>"
            ]
          },
          "metadata": {
            "tags": []
          }
        }
      ]
    },
    {
      "cell_type": "code",
      "metadata": {
        "id": "F85pTNIzayiH",
        "colab_type": "code",
        "colab": {}
      },
      "source": [
        "for i in list(tqdm._instances):\n",
        "    tqdm._decr_instances(i)"
      ],
      "execution_count": 0,
      "outputs": []
    },
    {
      "cell_type": "code",
      "metadata": {
        "id": "bIPr94FU7pJs",
        "colab_type": "code",
        "colab": {}
      },
      "source": [
        "batch = next(iter(test_iter))"
      ],
      "execution_count": 0,
      "outputs": []
    },
    {
      "cell_type": "code",
      "metadata": {
        "id": "tnoisvx47pJv",
        "colab_type": "code",
        "colab": {}
      },
      "source": [
        "def word_ids_to_sentence(id_tensor, vocab,join=None):\n",
        "    if isinstance(id_tensor, torch.LongTensor):\n",
        "        ids = id_tensor.transpose(0, 1).contiguous().view(-1)\n",
        "    elif isinstance(id_tensor, np.ndarray):\n",
        "        ids = id_tensor.transpose().reshape(-1)\n",
        "\n",
        "    batch = [vocab.itos[ind] for ind in ids]\n",
        "    if join is None:\n",
        "        return batch\n",
        "    else:\n",
        "        return join.join(batch)"
      ],
      "execution_count": 0,
      "outputs": []
    },
    {
      "cell_type": "code",
      "metadata": {
        "id": "ccBt01x-F7ro",
        "colab_type": "code",
        "colab": {}
      },
      "source": [
        "seed = batch.text[:, 1].unsqueeze(1)"
      ],
      "execution_count": 0,
      "outputs": []
    },
    {
      "cell_type": "code",
      "metadata": {
        "id": "Fgx63E3z7pJx",
        "colab_type": "code",
        "outputId": "48e6dc68-1edd-4888-ae38-8655dd39cbae",
        "colab": {
          "base_uri": "https://localhost:8080/",
          "height": 35
        }
      },
      "source": [
        "word_ids_to_sentence(seed.cpu().data, TEXT.vocab, join='')"
      ],
      "execution_count": 84,
      "outputs": [
        {
          "output_type": "execute_result",
          "data": {
            "text/plain": [
              "'ction▁delivered▁a▁performance▁of▁\"▁kiss▁you▁\"▁,▁in▁front▁of▁a▁video▁game▁@-@▁themed▁set▁,▁on▁the▁final'"
            ]
          },
          "metadata": {
            "tags": []
          },
          "execution_count": 84
        }
      ]
    },
    {
      "cell_type": "code",
      "metadata": {
        "id": "0Mj-8KmhH9GR",
        "colab_type": "code",
        "colab": {}
      },
      "source": [
        "seed = batch.text[:25, 2].unsqueeze(1)"
      ],
      "execution_count": 0,
      "outputs": []
    },
    {
      "cell_type": "code",
      "metadata": {
        "id": "L8ldUqMTuMmj",
        "colab_type": "code",
        "colab": {}
      },
      "source": [
        "def generate(seed, temp=1, max_sequence=20):\n",
        "    t = torch.nn.Softmax(-1)\n",
        "    seed = seed.cuda()\n",
        "    model.eval()\n",
        "\n",
        "    with torch.no_grad():\n",
        "\n",
        "        emb = model.encoder(seed)     \n",
        "        output, mem = model.rnn(emb)\n",
        "        decoded = model.decoder(output.view(output.size(0)*output.size(1), output.size(2)))\n",
        "        decoded = decoded.view(output.size(0), output.size(1), decoded.size(1))\n",
        "        current_token = seed[-1,:].unsqueeze(1)\n",
        "        \n",
        "        pred = []\n",
        "\n",
        "        for timestamp in range(max_sequence):\n",
        "\n",
        "            emb = model.encoder(current_token)\n",
        "            output, mem = model.rnn(emb, mem)\n",
        "            decoded = model.decoder(output.view(output.size(0)*output.size(1), output.size(2)))\n",
        "            decoded = decoded.view(output.size(0), output.size(1), decoded.size(1))\n",
        "            decoded = t(decoded/temp)           \n",
        "            pred.append(decoded)\n",
        " \n",
        "            current_token = decoded.argmax(dim=2)\n",
        "           \n",
        "        pred_ = torch.cat(pred, dim=0)\n",
        "        BS = pred\n",
        "\n",
        "    tokens = pred_.argmax(dim=-1).detach().cpu().numpy()\n",
        "    print(tokens.shape)\n",
        "    print('Seed:', word_ids_to_sentence(seed.cpu(), TEXT.vocab, join=''))\n",
        "    print('Model:', word_ids_to_sentence(tokens, TEXT.vocab, join=''))\n",
        "    return BS"
      ],
      "execution_count": 0,
      "outputs": []
    },
    {
      "cell_type": "markdown",
      "metadata": {
        "id": "7jMrJuBDbjDX",
        "colab_type": "text"
      },
      "source": [
        "**Sampling from probabilty distribution with temperature**"
      ]
    },
    {
      "cell_type": "code",
      "metadata": {
        "id": "h-PgtysNM90c",
        "colab_type": "code",
        "outputId": "1ea909f6-aacc-477b-c50c-a5395043ae6d",
        "colab": {
          "base_uri": "https://localhost:8080/",
          "height": 69
        }
      },
      "source": [
        "temp =generate(seed)"
      ],
      "execution_count": 87,
      "outputs": [
        {
          "output_type": "stream",
          "text": [
            "(20, 1)\n",
            "Seed: ▁raised▁in▁kalamazoo▁,▁michigan▁before▁his▁family▁moved▁to▁saginaw▁,▁michig\n",
            "Model: an▁'s▁death▁.<eos><eos>▁=▁=▁=▁=▁<unk>▁=▁=▁=<eos>\n"
          ],
          "name": "stdout"
        }
      ]
    },
    {
      "cell_type": "code",
      "metadata": {
        "id": "LKo7gqNuIDC5",
        "colab_type": "code",
        "outputId": "6611f21d-0609-408e-c1cc-8c24f9c412d0",
        "colab": {
          "base_uri": "https://localhost:8080/",
          "height": 69
        }
      },
      "source": [
        "temp = generate(seed, temp = 1e+3)"
      ],
      "execution_count": 88,
      "outputs": [
        {
          "output_type": "stream",
          "text": [
            "(20, 1)\n",
            "Seed: ▁raised▁in▁kalamazoo▁,▁michigan▁before▁his▁family▁moved▁to▁saginaw▁,▁michig\n",
            "Model: an▁'s▁death▁.<eos><eos>▁=▁=▁=▁=▁<unk>▁=▁=▁=<eos>\n"
          ],
          "name": "stdout"
        }
      ]
    },
    {
      "cell_type": "code",
      "metadata": {
        "id": "cBPwovpJN9EI",
        "colab_type": "code",
        "outputId": "116eb7f4-ac52-4c7a-dafd-6dbeeff13650",
        "colab": {
          "base_uri": "https://localhost:8080/",
          "height": 69
        }
      },
      "source": [
        "temp = generate(seed, temp = 2e+5)"
      ],
      "execution_count": 89,
      "outputs": [
        {
          "output_type": "stream",
          "text": [
            "(20, 1)\n",
            "Seed: ▁raised▁in▁kalamazoo▁,▁michigan▁before▁his▁family▁moved▁to▁saginaw▁,▁michig\n",
            "Model: an▁'s▁death▁.<eos><eos>▁=▁=▁=▁=▁<unk>▁=▁=▁=<eos>\n"
          ],
          "name": "stdout"
        }
      ]
    },
    {
      "cell_type": "code",
      "metadata": {
        "id": "QrZ2kgI2MLtq",
        "colab_type": "code",
        "outputId": "7d20ed3e-ec59-4218-ab68-174879e96d1e",
        "colab": {
          "base_uri": "https://localhost:8080/",
          "height": 69
        }
      },
      "source": [
        "temp = generate(seed, temp = 3e+7)"
      ],
      "execution_count": 90,
      "outputs": [
        {
          "output_type": "stream",
          "text": [
            "(20, 1)\n",
            "Seed: ▁raised▁in▁kalamazoo▁,▁michigan▁before▁his▁family▁moved▁to▁saginaw▁,▁michig\n",
            "Model: i▁'s▁previous▁life▁to▁take▁a▁0▁–▁0▁defeate▁for▁a▁half▁of▁00▁:▁0\n"
          ],
          "name": "stdout"
        }
      ]
    }
  ]
}