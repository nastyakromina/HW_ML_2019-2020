{
  "nbformat": 4,
  "nbformat_minor": 0,
  "metadata": {
    "kernelspec": {
      "display_name": "Python 3",
      "language": "python",
      "name": "python3"
    },
    "language_info": {
      "codemirror_mode": {
        "name": "ipython",
        "version": 3
      },
      "file_extension": ".py",
      "mimetype": "text/x-python",
      "name": "python",
      "nbconvert_exporter": "python",
      "pygments_lexer": "ipython3",
      "version": "3.6.8"
    },
    "colab": {
      "name": "ml1.ipynb",
      "provenance": [],
      "collapsed_sections": []
    }
  },
  "cells": [
    {
      "cell_type": "markdown",
      "metadata": {
        "id": "CCYKS6vIbVA7",
        "colab_type": "text"
      },
      "source": [
        "Для работы с датасетом используйте файл imdb_fixed.csv\n",
        "\n",
        "Файл можно скачать по ссылке: https://drive.google.com/file/d/1cnu9mqWoaK4QESxQLKC-MHzcA8Q8OOzf/view\n",
        "\n",
        "Он слишком большой для выкладывания в папку."
      ]
    },
    {
      "cell_type": "code",
      "metadata": {
        "id": "nHCq_GswwH__",
        "colab_type": "code",
        "colab": {
          "base_uri": "https://localhost:8080/",
          "height": 52
        },
        "outputId": "d8371dcc-8c0f-4bb0-a899-b2f0eb7fa804"
      },
      "source": [
        "import pandas as pd\n",
        "import numpy as np\n",
        "# from sklearn.externals import joblib\n",
        "import nltk\n",
        "nltk.download('stopwords')\n",
        "# import gensim\n",
        "import spacy\n",
        "\n",
        "# from sklearn import metrics\n",
        "\n",
        "import torch as tt\n",
        "import torch.nn as nn\n",
        "import torch.nn.functional as F\n",
        "import torch.optim as optim\n",
        "\n",
        "from torchtext.data import Field, LabelField, BucketIterator, TabularDataset, Iterator, RawField\n",
        "\n",
        "SEED = 42\n",
        "np.random.seed(SEED)\n",
        "\n",
        "import spacy\n",
        "\n",
        "\n",
        "spacy_en = spacy.load('en_core_web_sm')\n",
        "\n",
        "def tokenizer(text): # create a tokenizer function\n",
        "    return [tok.text for tok in spacy_en.tokenizer(text) if tok.text.isalpha()]\n",
        "\n",
        "\n",
        "classes={\n",
        "    'neg':0,\n",
        "    'unsup':1,\n",
        "    'pos':2\n",
        "}\n",
        "\n",
        "TEXT = Field(include_lengths=False, batch_first=True,\n",
        "             tokenize=tokenizer,\n",
        "             eos_token='<eos>',\n",
        "             lower=True,\n",
        "             stop_words=nltk.corpus.stopwords.words('english'))\n",
        "LABEL = LabelField(dtype=tt.int64, use_vocab=True, preprocessing=lambda x: classes[x])\n",
        "TYP = Field()"
      ],
      "execution_count": 2,
      "outputs": [
        {
          "output_type": "stream",
          "text": [
            "[nltk_data] Downloading package stopwords to /root/nltk_data...\n",
            "[nltk_data]   Unzipping corpora/stopwords.zip.\n"
          ],
          "name": "stdout"
        }
      ]
    },
    {
      "cell_type": "code",
      "metadata": {
        "id": "4tr67-cjy6Ca",
        "colab_type": "code",
        "colab": {}
      },
      "source": [
        "from google.colab import drive"
      ],
      "execution_count": 0,
      "outputs": []
    },
    {
      "cell_type": "code",
      "metadata": {
        "id": "xeTCZAgAy802",
        "colab_type": "code",
        "colab": {
          "base_uri": "https://localhost:8080/",
          "height": 126
        },
        "outputId": "724e761e-bd26-447b-8402-fd554e31a149"
      },
      "source": [
        "drive.mount('/content/gdrive')"
      ],
      "execution_count": 4,
      "outputs": [
        {
          "output_type": "stream",
          "text": [
            "Go to this URL in a browser: https://accounts.google.com/o/oauth2/auth?client_id=947318989803-6bn6qk8qdgf4n4g3pfee6491hc0brc4i.apps.googleusercontent.com&redirect_uri=urn%3aietf%3awg%3aoauth%3a2.0%3aoob&response_type=code&scope=email%20https%3a%2f%2fwww.googleapis.com%2fauth%2fdocs.test%20https%3a%2f%2fwww.googleapis.com%2fauth%2fdrive%20https%3a%2f%2fwww.googleapis.com%2fauth%2fdrive.photos.readonly%20https%3a%2f%2fwww.googleapis.com%2fauth%2fpeopleapi.readonly\n",
            "\n",
            "Enter your authorization code:\n",
            "··········\n",
            "Mounted at /content/gdrive\n"
          ],
          "name": "stdout"
        }
      ]
    },
    {
      "cell_type": "code",
      "metadata": {
        "id": "uM7SlfGlzOBX",
        "colab_type": "code",
        "colab": {}
      },
      "source": [
        "import os\n",
        "os.chdir('gdrive/My Drive/Colab Notebooks')"
      ],
      "execution_count": 0,
      "outputs": []
    },
    {
      "cell_type": "code",
      "metadata": {
        "id": "ocErWHjwwIAE",
        "colab_type": "code",
        "colab": {}
      },
      "source": [
        "dataset = TabularDataset(\n",
        "    'imdb_fixed.csv', format='csv',\n",
        "    fields=[\n",
        "        (None, None),\n",
        "        ('type', TYP),\n",
        "        ('review', TEXT),\n",
        "        ('label', LABEL),\n",
        "        (None, None)\n",
        "    ],\n",
        "    skip_header=True)"
      ],
      "execution_count": 0,
      "outputs": []
    },
    {
      "cell_type": "code",
      "metadata": {
        "id": "2yiroVJgwIAH",
        "colab_type": "code",
        "colab": {
          "base_uri": "https://localhost:8080/",
          "height": 106
        },
        "outputId": "e7d25991-308a-498a-8660-3145502dbcd2"
      },
      "source": [
        "from torchtext.data import Dataset\n",
        "\n",
        "TEXT.build_vocab(dataset, min_freq=5)\n",
        "print(len(TEXT.vocab.itos))\n",
        "print(TEXT.vocab.itos[:10])\n",
        "LABEL.build_vocab(dataset)\n",
        "TYP.build_vocab(dataset)\n",
        "\n",
        "train_ds = Dataset(dataset.examples, dataset.fields, filter_pred=lambda x: 'train' in x.type)\n",
        "test = Dataset(dataset.examples, dataset.fields, filter_pred=lambda x: 'test' in x.type)\n",
        "train_ds, valid = train_ds.split(0.7, stratified=True)\n",
        "\n",
        "print(np.unique([x.label for x in train_ds.examples], return_counts=True))\n",
        "print(np.unique([x.label for x in valid.examples], return_counts=True))\n",
        "print(np.unique([x.label for x in test.examples], return_counts=True))"
      ],
      "execution_count": 7,
      "outputs": [
        {
          "output_type": "stream",
          "text": [
            "52275\n",
            "['<unk>', '<pad>', '<eos>', 'movie', 'film', 'one', 'like', 'good', 'would', 'even']\n",
            "(array([0, 1, 2]), array([ 8750, 35000,  8750]))\n",
            "(array([0, 1, 2]), array([ 3750, 15000,  3750]))\n",
            "(array([0, 2]), array([12500, 12500]))\n"
          ],
          "name": "stdout"
        }
      ]
    },
    {
      "cell_type": "code",
      "metadata": {
        "id": "u1WKP2kewIAM",
        "colab_type": "code",
        "colab": {}
      },
      "source": [
        "device = tt.device('cuda' if tt.cuda.is_available() else 'cpu')\n",
        "\n",
        "class MyModel(nn.Module):\n",
        "    \n",
        "    def __init__(self, vocab_size, embed_size, hidden_size, kernels):\n",
        "        super(MyModel, self).__init__()\n",
        "        self.embedding = nn.Embedding(vocab_size, embed_size)\n",
        "        \n",
        "        self.convs = nn.ModuleList([nn.Conv1d(embed_size, hidden_size, k, padding=5) for k in kernels])\n",
        "        \n",
        "        self.fc = nn.Linear(hidden_size * len(kernels), 3)\n",
        "        \n",
        "    def forward(self, x):\n",
        "        \n",
        "        x = self.embedding(x)\n",
        "        x = x.transpose(1,2)\n",
        "        \n",
        "        concatenated = []\n",
        "        for conv in self.convs:\n",
        "            z = conv(x)\n",
        "            z = F.avg_pool1d(z, kernel_size=z.size(2))\n",
        "            z = z.squeeze(2)\n",
        "            concatenated.append(z)\n",
        "            \n",
        "        x = tt.cat(concatenated, 1)\n",
        "        x = self.fc(x)\n",
        "        return x\n",
        "\n",
        "tt.cuda.empty_cache()\n",
        "\n",
        "batch_size = 32\n",
        "\n",
        "model = MyModel(len(TEXT.vocab.itos),\n",
        "                embed_size=100,\n",
        "                hidden_size=128,\n",
        "                kernels=[2,3,4,5]\n",
        "               )\n",
        "\n",
        "train_iterator, valid_iterator, test_iterator = BucketIterator.splits(\n",
        "    (train_ds, valid, test),\n",
        "    batch_sizes=(batch_size, batch_size, batch_size),\n",
        "    shuffle=True,\n",
        "    sort_key=lambda x: len(x.review),\n",
        "#     sort_within_batch=True,\n",
        "    device=device,\n",
        ")\n",
        "\n",
        "model = model.to(device)\n",
        "optimizer = optim.Adam(model.parameters())\n",
        "scheduler = optim.lr_scheduler.ReduceLROnPlateau(optimizer, patience=5, verbose=True, cooldown=5)\n",
        "criterion = nn.CrossEntropyLoss()\n",
        "criterion = criterion.to(device)"
      ],
      "execution_count": 0,
      "outputs": []
    },
    {
      "cell_type": "code",
      "metadata": {
        "id": "qzu4RfukwIAP",
        "colab_type": "code",
        "colab": {}
      },
      "source": [
        "def binary_accuracy(preds, y):\n",
        "    \"\"\"\n",
        "    Returns accuracy per batch, i.e. if you get 8/10 right, this returns 0.8, NOT 8\n",
        "    \"\"\"\n",
        "\n",
        "    #round predictions to the closest integer\n",
        "    rounded_preds = tt.round(tt.sigmoid(preds)).t()\n",
        "\n",
        "    correct = (rounded_preds == y).float() #convert into float for division \n",
        "    acc = correct.sum() / len(correct)\n",
        "    return acc\n",
        "\n",
        "def train(model, iterator, optimizer, criterion):\n",
        "    \n",
        "    epoch_loss = 0\n",
        "    epoch_acc = 0\n",
        "    \n",
        "    model.train()\n",
        "    \n",
        "    for batch in iterator:\n",
        "        \n",
        "        optimizer.zero_grad()\n",
        "        \n",
        "        predictions = model(batch.review).squeeze(1)\n",
        "        \n",
        "        loss = criterion(predictions, batch.label)\n",
        "        \n",
        "        acc = binary_accuracy(predictions, batch.label)\n",
        "        \n",
        "        loss.backward()\n",
        "        \n",
        "        optimizer.step()\n",
        "        \n",
        "        epoch_loss += loss.item()\n",
        "        epoch_acc += acc.item()\n",
        "        \n",
        "    return epoch_loss / len(iterator), epoch_acc / len(iterator)\n",
        "\n",
        "def evaluate(model, iterator, criterion):\n",
        "    \n",
        "    epoch_loss = 0\n",
        "    epoch_acc = 0\n",
        "    \n",
        "    model.eval()\n",
        "    \n",
        "    with tt.no_grad():\n",
        "    \n",
        "        for batch in iterator:\n",
        "\n",
        "            predictions = model(batch.review).squeeze(1)\n",
        "            \n",
        "            loss = criterion(predictions, batch.label)\n",
        "            \n",
        "            acc = binary_accuracy(predictions, batch.label)\n",
        "\n",
        "            epoch_loss += loss.item()\n",
        "            epoch_acc += acc.item()\n",
        "        \n",
        "    return epoch_loss / len(iterator), epoch_acc / len(iterator)\n",
        "\n",
        "import time\n",
        "\n",
        "def epoch_time(start_time, end_time):\n",
        "    elapsed_time = end_time - start_time\n",
        "    elapsed_mins = int(elapsed_time / 60)\n",
        "    elapsed_secs = int(elapsed_time - (elapsed_mins * 60))\n",
        "    return elapsed_mins, elapsed_secs"
      ],
      "execution_count": 0,
      "outputs": []
    },
    {
      "cell_type": "code",
      "metadata": {
        "id": "yEyps0tDwIAS",
        "colab_type": "code",
        "colab": {
          "base_uri": "https://localhost:8080/",
          "height": 284
        },
        "outputId": "f2a3928f-8f2d-452f-a079-8ad68599fb24"
      },
      "source": [
        "N_EPOCHS = 5\n",
        "\n",
        "best_valid_loss = float('inf')\n",
        "\n",
        "for epoch in range(N_EPOCHS):\n",
        "\n",
        "    start_time = time.time()\n",
        "    train_loss, train_acc = train(model, train_iterator, optimizer, criterion)\n",
        "    valid_loss, valid_acc = evaluate(model, valid_iterator, criterion)\n",
        "    \n",
        "    end_time = time.time()\n",
        "\n",
        "    epoch_mins, epoch_secs = epoch_time(start_time, end_time)\n",
        "    \n",
        "    if valid_loss < best_valid_loss:\n",
        "        best_valid_loss = valid_loss\n",
        "        tt.save(model.state_dict(), 'tut4-model.pt')\n",
        "    \n",
        "    print(f'Epoch: {epoch+1:02} | Epoch Time: {epoch_mins}m {epoch_secs}s')\n",
        "    print(f'\\tTrain Loss: {train_loss:.3f} | Train Acc: {train_acc*100:.2f}%')\n",
        "    print(f'\\t Val. Loss: {valid_loss:.3f} |  Val. Acc: {valid_acc*100:.2f}%')"
      ],
      "execution_count": 10,
      "outputs": [
        {
          "output_type": "stream",
          "text": [
            "Epoch: 01 | Epoch Time: 10m 37s\n",
            "\tTrain Loss: 0.852 | Train Acc: 1483.42%\n",
            "\t Val. Loss: 0.982 |  Val. Acc: 1145.03%\n",
            "Epoch: 02 | Epoch Time: 10m 38s\n",
            "\tTrain Loss: 0.755 | Train Acc: 1342.29%\n",
            "\t Val. Loss: 1.097 |  Val. Acc: 1172.21%\n",
            "Epoch: 03 | Epoch Time: 10m 41s\n",
            "\tTrain Loss: 0.677 | Train Acc: 1344.46%\n",
            "\t Val. Loss: 1.214 |  Val. Acc: 1231.96%\n",
            "Epoch: 04 | Epoch Time: 10m 36s\n",
            "\tTrain Loss: 0.589 | Train Acc: 1375.64%\n",
            "\t Val. Loss: 1.385 |  Val. Acc: 1276.09%\n",
            "Epoch: 05 | Epoch Time: 10m 40s\n",
            "\tTrain Loss: 0.512 | Train Acc: 1405.53%\n",
            "\t Val. Loss: 1.631 |  Val. Acc: 1282.91%\n"
          ],
          "name": "stdout"
        }
      ]
    },
    {
      "cell_type": "code",
      "metadata": {
        "id": "qvg7dskH0Rk2",
        "colab_type": "code",
        "colab": {
          "base_uri": "https://localhost:8080/",
          "height": 35
        },
        "outputId": "36667b24-893a-4169-f7b3-3ef16c4b6e95"
      },
      "source": [
        "model.load_state_dict(tt.load('tut4-model.pt'))\n",
        "\n",
        "test_loss, test_acc = evaluate(model, test_iterator, criterion)\n",
        "\n",
        "print(f'Test Loss: {test_loss:.3f} | Test Acc: {test_acc*100:.2f}%')"
      ],
      "execution_count": 13,
      "outputs": [
        {
          "output_type": "stream",
          "text": [
            "Test Loss: 1.175 | Test Acc: 1007.16%\n"
          ],
          "name": "stdout"
        }
      ]
    }
  ]
}